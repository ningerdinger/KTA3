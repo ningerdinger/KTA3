{
 "cells": [
  {
   "cell_type": "markdown",
   "metadata": {},
   "source": [
    "We are making clusters out of the embedded data. These clusters represent the data of each individual for categorization purposes"
   ]
  },
  {
   "metadata": {},
   "cell_type": "code",
   "source": [
    "from utils import save_face_list, extract_frames\n",
    "from face_extraction import process_image, check_face\n",
    "from facenet_pytorch import MTCNN\n",
    "import torch\n",
    "import cv2\n",
    "from main_unsupervised import find_best_number_of_clusters\n",
    "import numpy as np\n",
    "import pandas as pd\n",
    "from sklearn.cluster import KMeans\n",
    "from sklearn.metrics import pairwise_distances_argmin_min\n",
    "import os\n",
    "import shutil\n",
    "import plots\n",
    "import augmentation\n",
    "import main_embed\n",
    "import cluster_dataframe\n",
    "import embed\n",
    "\n"
   ],
   "outputs": [],
   "execution_count": null
  },
  {
   "metadata": {},
   "cell_type": "code",
   "source": [
    "MOVIE_TRAINING_LIST = ['New Kids ABC','New Kids Fussballspiel','New Kids Turbo_ Tankstation','New Kids Nitro, _Peter lemonade!_ 720']\n",
    "MOVIE_TEST_LIST = ['Test']\n",
    "MOVIE_FOLDER = \"Desktop\"\n",
    "\n",
    "FACES_FOLDER_TRAINING = 'face_folder'\n",
    "FACES_FOLDER_TEST = 'face_folder_test'\n",
    "\n",
    "OUTPUT_FOLDER_RESULTS_TRAIN = 'results'\n",
    "RESULTS_NAME_TRAIN = 'second_results.csv'\n",
    "RESULTS_CSV_TRAIN = 'results/second_results.csv'\n",
    "\n",
    "OUTPUT_FOLDER_RESULTS_TEST = 'results_test'\n",
    "RESULTS_NAME_TEST = 'test_results.csv'\n",
    "RESULTS_CSV_TEST = 'results_test/test_results.csv'\n",
    "\n",
    "KMEANS_OUTPUT_FOLDER = 'KMEANS_OUTPUT'\n",
    "CLUSTER_MODEL_PATH = 'KMEANS_OUTPUT/kmeans.pkl'\n",
    "\n",
    "directories = [MOVIE_FOLDER,FACES_FOLDER_TRAINING,FACES_FOLDER_TEST,OUTPUT_FOLDER_RESULTS_TRAIN,OUTPUT_FOLDER_RESULTS_TEST,KMEANS_OUTPUT_FOLDER]\n",
    "for path in directories:\n",
    "    if not os.path.isdir(path):\n",
    "        os.makedirs(path, exist_ok=True)\n",
    "        print(f\"Checked/Created directory: {path}\")\n",
    "    else: \n",
    "        print(f\"Directory already exists: {path}\")\n"
   ],
   "outputs": [],
   "execution_count": null
  },
  {
   "cell_type": "code",
   "metadata": {},
   "source": [
    "\n",
    "cap = cv2.VideoCapture(MOVIE_FOLDER+MOVIE_TRAINING_LIST[1]+'.mp4')\n",
    "if not cap.isOpened():\n",
    "    print(\"Error: Cannot open video file.\")\n",
    "else:\n",
    "    print(\"Video file opened successfully!\")\n",
    "cap.release()\n"
   ],
   "outputs": [],
   "execution_count": null
  },
  {
   "cell_type": "code",
   "metadata": {},
   "source": [
    "output_extension= '.png'\n",
    "input_extension = '.mp4'\n",
    "samples_per_second = 10         #FPS rate is assumed 25\n",
    "padding_x = 10\n",
    "padding_y = 10\n",
    "min_confidence = 0.5\n",
    "\n",
    "device = torch.device('cuda' if torch.cuda.is_available() else 'cpu')\n",
    "mtcnn = MTCNN(keep_all=True, device=device)\n",
    "\n",
    "for movie in MOVIE_TRAINING_LIST:\n",
    "  print(movie+input_extension)\n",
    "  frame_list = extract_frames(MOVIE_FOLDER,movie+input_extension,samples_per_second)\n",
    "  face_list_movie = []\n",
    "  for frame in frame_list:\n",
    "    face_list_frame = process_image(frame,padding_x,padding_y,min_confidence)\n",
    "    for face in face_list_frame:\n",
    "      if check_face(face,mtcnn):\n",
    "        face_list_movie.append(face)\n",
    "  print('saving')\n",
    "  save_face_list(face_list_movie,FACES_FOLDER_TRAINING,movie,output_extension)"
   ],
   "outputs": [],
   "execution_count": null
  },
  {
   "cell_type": "code",
   "metadata": {},
   "source": "main_embed.embed(FACES_FOLDER_TRAINING, OUTPUT_FOLDER_RESULTS_TRAIN,RESULTS_NAME_TRAIN)\n",
   "outputs": [],
   "execution_count": null
  },
  {
   "metadata": {},
   "cell_type": "code",
   "source": [
    "best_clusters_silhouette, best_clusters_calinski = find_best_number_of_clusters(RESULTS_CSV_TRAIN)\n",
    "cluster_choice = best_clusters_calinski\n"
   ],
   "outputs": [],
   "execution_count": null
  },
  {
   "cell_type": "code",
   "metadata": {},
   "source": [
    "for movie in MOVIE_TEST_LIST:\n",
    "  print(movie+input_extension)\n",
    "  frame_list = extract_frames(MOVIE_FOLDER,movie+input_extension,samples_per_second)\n",
    "  face_list_movie = []\n",
    "  for frame in frame_list:\n",
    "    face_list_frame = process_image(frame,padding_x,padding_y,min_confidence)\n",
    "    for face in face_list_frame:\n",
    "      if check_face(face,mtcnn):\n",
    "        face_list_movie.append(face)\n",
    "  print('saving')\n",
    "  save_face_list(face_list_movie,FACES_FOLDER_TEST,movie,output_extension)"
   ],
   "outputs": [],
   "execution_count": null
  },
  {
   "cell_type": "code",
   "metadata": {},
   "source": "main_embed.embed(FACES_FOLDER_TEST,OUTPUT_FOLDER_RESULTS_TEST,RESULTS_NAME_TEST)\n",
   "outputs": [],
   "execution_count": null
  },
  {
   "metadata": {},
   "cell_type": "code",
   "source": [
    "\n",
    "train_embeddings_df = pd.read_csv(RESULTS_CSV_TRAIN)\n",
    "trains_embeddings = train_embeddings_df.T.values\n",
    "test_embeddings_df = pd.read_csv(RESULTS_CSV_TEST)\n",
    "test_embeddings = test_embeddings_df.T.values\n",
    "\n",
    "kmeans = KMeans(random_state=0, n_clusters=cluster_choice).fit(trains_embeddings)\n",
    "labels = kmeans.labels_\n",
    "\n",
    "distances_train = pairwise_distances_argmin_min(trains_embeddings, kmeans.cluster_centers_)[1]\n",
    "threshold_distance_85 = np.percentile(distances_train, 95)\n",
    "\n",
    "plots.plot_histplot_percentile(distances_train, threshold_distance_85)\n",
    "\n",
    "for i, file_name in enumerate(train_embeddings_df.columns):\n",
    "    if distances_train[i] > threshold_distance_85:\n",
    "        train_embeddings_df.drop(file_name, axis='columns', inplace=True)\n",
    "    \n",
    "trains_embeddings = train_embeddings_df.T.values\n",
    "kmeans = KMeans(random_state=0, n_clusters=cluster_choice, max_iter=600).fit(trains_embeddings)\n",
    "labels = kmeans.labels_\n",
    "\n",
    "for i, file_name in enumerate(train_embeddings_df.columns):\n",
    "    src_path = os.path.join(FACES_FOLDER_TRAINING, file_name)\n",
    "    if distances_train[i] > threshold_distance_85:\n",
    "        dst_path = os.path.join(KMEANS_OUTPUT_FOLDER, 'outliers', file_name)\n",
    "    else:   \n",
    "        dst_path = os.path.join(KMEANS_OUTPUT_FOLDER, f'cluster_{labels[i]}', file_name)\n",
    "    os.makedirs(os.path.dirname(dst_path), exist_ok=True)\n",
    "    shutil.copy(src_path, dst_path)\n",
    "    \n"
   ],
   "outputs": [],
   "execution_count": null
  },
  {
   "metadata": {},
   "cell_type": "code",
   "source": [
    "clusterdf = cluster_dataframe.process_videos_to_dataframe(MOVIE_TEST_LIST,MOVIE_FOLDER,kmeans, threshold_distance_85=threshold_distance_85)\n",
    "plots.plot_cluster_presence(clusterdf.sort_index(ascending=False)) \n"
   ],
   "outputs": [],
   "execution_count": null
  },
  {
   "metadata": {},
   "cell_type": "code",
   "source": [
    "#Maakt de augmentations\n",
    "augmentation.process_images_with_augmentations(FACES_FOLDER_TEST,'AUGMENTED')\n"
   ],
   "outputs": [],
   "execution_count": null
  },
  {
   "metadata": {},
   "cell_type": "code",
   "source": [
    "#Maakt van iedere folder met augmentation nieuwe embeddings\n",
    "for folder_name in os.listdir('AUGMENTED'):\n",
    "    folder_path = os.path.join('AUGMENTED', folder_name,'')\n",
    "    if os.path.isdir(folder_path):\n",
    "        # Dynamically construct paths\n",
    "        AUGMENTED_FOLDERS = folder_path\n",
    "        RESULT_NAME_TRAIN = f'embed_{folder_name}.csv'\n",
    "\n",
    "        # Print paths for debugging\n",
    "        print(f\"Processing folder: {AUGMENTED_FOLDERS}\")\n",
    "        print(f\"Output folder: {OUTPUT_FOLDER_RESULTS_TEST}\")\n",
    "        print(f\"Result file: {RESULT_NAME_TRAIN}\")\n",
    "\n",
    "        # Call embedding function (example)\n",
    "        main_embed.embed(AUGMENTED_FOLDERS, OUTPUT_FOLDER_RESULTS_TEST, RESULT_NAME_TRAIN)\n"
   ],
   "outputs": [],
   "execution_count": null
  },
  {
   "metadata": {},
   "cell_type": "code",
   "source": [
    "#voor ieder embeddingbestand wordt clusterin gedaan, afstand bepaald en frequenty gedemonstreerd\n",
    "for file_name in os.listdir(OUTPUT_FOLDER_RESULTS_TEST):\n",
    "    file_path = os.path.join(OUTPUT_FOLDER_RESULTS_TEST, file_name)\n",
    "    \n",
    "    # Check if it's a CSV file\n",
    "    if file_name.endswith('.csv') and os.path.isfile(file_path):\n",
    "        print(f\"Processing file: {file_name}\")\n",
    "        \n",
    "        # Read the embeddings from the CSV file\n",
    "        test_embeddings_df = pd.read_csv(file_path)\n",
    "        test_embeddings = test_embeddings_df.T.values\n",
    "        print(test_embeddings_df.columns)\n",
    "        # Process the embeddings and generate results\n",
    "        results_df = cluster_dataframe.process_test_embeddings(\n",
    "            test_embeddings=test_embeddings,\n",
    "            test_embeddings_df=test_embeddings_df,\n",
    "            kmeans=kmeans,\n",
    "            output_folder='recognition-output',\n",
    "            face_folder_test='face_folder_test',\n",
    "            threshold=threshold_distance_85,\n",
    "            results_output_path = file_name,\n",
    "            \n",
    "            \n",
    "        )\n",
    "        \n",
    "        # Plot actor presence\n",
    "        plots.plot_actor_presence(results_df, 'Cluster', cluster_choice,file_name)"
   ],
   "outputs": [],
   "execution_count": null
  },
  {
   "metadata": {},
   "cell_type": "code",
   "source": "",
   "outputs": [],
   "execution_count": null
  }
 ],
 "metadata": {
  "kernelspec": {
   "display_name": "Python 3",
   "language": "python",
   "name": "python3"
  },
  "language_info": {
   "codemirror_mode": {
    "name": "ipython",
    "version": 3
   },
   "file_extension": ".py",
   "mimetype": "text/x-python",
   "name": "python",
   "nbconvert_exporter": "python",
   "pygments_lexer": "ipython3",
   "version": "3.10.11"
  }
 },
 "nbformat": 4,
 "nbformat_minor": 2
}
